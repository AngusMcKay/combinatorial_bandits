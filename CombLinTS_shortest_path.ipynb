{
 "cells": [
  {
   "cell_type": "code",
   "execution_count": 3,
   "metadata": {
    "scrolled": true
   },
   "outputs": [
    {
     "name": "stdout",
     "output_type": "stream",
     "text": [
      "Requirement already satisfied (use --upgrade to upgrade): tqdm in /opt/conda/lib/python3.5/site-packages\r\n",
      "\u001b[33mYou are using pip version 8.1.2, however version 9.0.1 is available.\r\n",
      "You should consider upgrading via the 'pip install --upgrade pip' command.\u001b[0m\r\n"
     ]
    }
   ],
   "source": [
    "!pip install tqdm"
   ]
  },
  {
   "cell_type": "code",
   "execution_count": 4,
   "metadata": {},
   "outputs": [],
   "source": [
    "# Libraries\n",
    "import numpy as np\n",
    "import matplotlib.pyplot as plt\n",
    "from tqdm import tqdm\n",
    "import math\n",
    "import scipy.stats as stats\n",
    "import pickle\n",
    "import matplotlib.patches as mpatches\n",
    "truncnorm = stats.truncnorm\n",
    "truncexp = stats.truncexpon\n",
    "%matplotlib inline"
   ]
  },
  {
   "cell_type": "code",
   "execution_count": 28,
   "metadata": {
    "collapsed": true
   },
   "outputs": [],
   "source": [
    "# Oracle for a given weights matrix\n",
    "def dijk(w):\n",
    "    # Dijkstra\n",
    "    # set initial conditions\n",
    "    L = int(math.sqrt(len(w))) # number of vertices\n",
    "    w = w.reshape(L,L)\n",
    "    unvisited = list(range(L))\n",
    "    distances = [np.inf]*L\n",
    "    distances[0] = 0\n",
    "    paths = [[0]]*L\n",
    "\n",
    "    while len(unvisited) > 0:\n",
    "        i = np.argmin([distances[i] for i in unvisited])\n",
    "        v = unvisited[i]\n",
    "        unvisited.pop(i)\n",
    "        for u in range(L):\n",
    "            if distances[u] > distances[v] + w[v, u]:\n",
    "                distances[u] = distances[v] + w[v, u]\n",
    "                paths[u] = paths[v][:]\n",
    "                paths[u].append(u)\n",
    "    \n",
    "    short = paths[-1]\n",
    "    # store observed paths\n",
    "    A = np.arange(L**2).reshape(L,L)\n",
    "    out = []\n",
    "    for i in range(len(short)-1):\n",
    "        out.append(A[short[i], short[i+1]])\n",
    "        \n",
    "    A = np.zeros(L**2)\n",
    "    A[out] = 1\n",
    "    return(out, A)"
   ]
  },
  {
   "cell_type": "code",
   "execution_count": null,
   "metadata": {
    "collapsed": true
   },
   "outputs": [],
   "source": [
    "V = 10\n",
    "L = V*V\n",
    "diag_zero = np.ones(L).reshape(V, V) - np.diag(np.ones(V))\n",
    "path_means1 = np.zeros(L).reshape(V, V)\n",
    "for i in range(V):\n",
    "    for j in range(V):\n",
    "        path_means1[i,j] = abs(i - j)/V - 1/(V*2)\n",
    "path_means1 = abs(path_means1 * diag_zero)*10\n",
    "upper = np.amax(path_means1)\n",
    "lower = np.amin(path_means1)\n",
    "path_means2 = np.random.uniform(0, 1, L).reshape(V, V) * diag_zero\n",
    "path_means2[0,-1] = 1 # to try to make sure best path isn't to go straight to the end!"
   ]
  },
  {
   "cell_type": "code",
   "execution_count": 47,
   "metadata": {
    "scrolled": true
   },
   "outputs": [
    {
     "data": {
      "text/plain": [
       "<matplotlib.collections.QuadMesh at 0x7fa703565518>"
      ]
     },
     "execution_count": 47,
     "metadata": {},
     "output_type": "execute_result"
    },
    {
     "data": {
      "image/png": "[encoded data removed]",
      "text/plain": [
       "<matplotlib.figure.Figure at 0x7fa703624160>"
      ]
     },
     "metadata": {},
     "output_type": "display_data"
    }
   ],
   "source": [
    "path_means1 = pickle.load( open( 'stoch_path_means', 'rb' ) )\n",
    "w_actual = pickle.load(open('stoch_weights', 'rb'))\n",
    "V = path_means1.shape[0]\n",
    "L = V*V\n",
    "lower=0\n",
    "upper=1\n",
    "sigma=0.1\n",
    "path_means1 = truncnorm.stats(np.concatenate(lower-path_means1)/sigma, np.concatenate(upper-path_means1)/sigma, loc=np.concatenate(path_means1), scale=sigma, moments='m').reshape(V, V)\n",
    "plt.pcolormesh(np.repeat(dijk(path_means1.reshape(L,))[1],10).reshape(L,10))"
   ]
  },
  {
   "cell_type": "code",
   "execution_count": null,
   "metadata": {
    "collapsed": true
   },
   "outputs": [],
   "source": [
    "np.sum(path_means1.reshape(L,)[dijk(path_means1.reshape(L,))[1].astype(bool)])"
   ]
  },
  {
   "cell_type": "code",
   "execution_count": 30,
   "metadata": {
    "collapsed": true
   },
   "outputs": [],
   "source": [
    "# Wan, Kveton and Ashkan 2015 CombLinTS algorithm\n",
    "# Should work better than other algorithms when L is very large as doesn't depend on L\n",
    "# Makes use of Lxd generalization matrix Φ of features for each element of E\n",
    "# w̄ lies on or close to subspace span of Φ\n",
    "# define θ∗ = argmin_θ ||w̄ − Φθ||_2\n",
    "# could think of features as for example knowledge of other activities/events which affects outcome - \n",
    "# like characteristics of movies which could predict rating??\n",
    "\n",
    "\n",
    "# Scenario: User knows Φ matrix of activities/events\n",
    "# At each stage user samples coefficients θ used to estimate w̄\n",
    "# and uses this estimate with oracle to determine which move to play\n",
    "# observes weight for each play and updates parameters of θ sampling accordingly\n",
    "\n",
    "### Set parameters\n",
    "#L = 16 # 4x4 grid with 16 possible edges\n",
    "lambda_true = 0.1 # (used to generate true coefficients of Φ which are then used to calculate w̄ )\n",
    "sigma_true = 0.2 # (used when adding noise to true w at each iteration)\n",
    "d = L\n",
    "#phi = np.random.normal(0, 1, (L,d))\n",
    "phi = np.eye(L)\n",
    "#phi = np.random.uniform(0, 1, L*d).reshape(L,d)\n",
    "#theta_opt = np.random.multivariate_normal([0]*d, np.diag([lambda_true**2]*d))\n",
    "w_bar = path_means1.reshape(L,)\n",
    "#w_bar = np.array([0,100,1,100,5,0,5,1,5,1,0,100,5,5,5,0])\n",
    "#w_bar = np.array([0,10,1,100,5,0,5,1,5,1,0,100,5,5,5,0])\n",
    "theta_opt = np.linalg.solve(phi,w_bar)"
   ]
  },
  {
   "cell_type": "code",
   "execution_count": 31,
   "metadata": {
    "collapsed": true
   },
   "outputs": [],
   "source": [
    "# Shortest path case for toy example\n",
    "iters = 10000\n",
    "w_est = np.zeros((L, iters))\n",
    "#w_actual = np.zeros((L, iters))\n",
    "A = np.zeros((L, iters))\n",
    "theta = np.zeros((d, iters+1))\n",
    "### INIT\n",
    "t=0\n",
    "lamb = 10\n",
    "sigma = 0.1\n",
    "cov_mat = [np.diag([lamb**2]*d)]*(iters+1)\n",
    "theta[:,t] = [0]*d"
   ]
  },
  {
   "cell_type": "code",
   "execution_count": 32,
   "metadata": {},
   "outputs": [
    {
     "name": "stderr",
     "output_type": "stream",
     "text": [
      "100%|██████████| 10000/10000 [00:39<00:00, 252.37it/s]\n"
     ]
    }
   ],
   "source": [
    "### iterate over number of iterations\n",
    "for t in tqdm(range(iters)):\n",
    "    # draw sample theta and use to estimate w\n",
    "    theta_sample = np.random.multivariate_normal(theta[:,t], cov_mat[t])\n",
    "    w_est[:,t] = np.maximum(np.dot(phi, theta_sample),0)\n",
    "    # Solve oracle for w_est and get A_t - can be any number of elements\n",
    "    (edges, A[:,t]) = dijk(w_est[:,t])\n",
    "\n",
    "    # calcualate actual w based on theta_opt plus some noise\n",
    "    #w_actual_noise = np.random.normal(0, sigma_true**2, L)\n",
    "    #w_actual[:,t] = np.maximum(0,w_bar + w_actual_noise)\n",
    "    #w_actual[:,t] = np.concatenate(truncnorm.rvs((lower-path_means1)/sigma_true, (upper-path_means1)/sigma_true, loc=path_means1, scale=sigma_true)*diag_zero)\n",
    "    \n",
    "    # update covariance matrix and theta\n",
    "    # init\n",
    "    theta[:,(t+1)] = theta[:,t]\n",
    "    cov_mat[t+1] = cov_mat[t]\n",
    "    for k in edges:\n",
    "        # update theta\n",
    "        theta[:,(t+1)]=(np.dot(((np.eye(d))-((np.dot(np.dot(cov_mat[t+1],np.transpose(phi[k,:][np.newaxis])),(phi[k,:][np.newaxis]))) / \n",
    "                              (np.dot(np.dot(phi[k,:][np.newaxis],cov_mat[t+1]),np.transpose(phi[k,:][np.newaxis])) + sigma**2))) , \n",
    "                (theta[:,(t+1)].reshape(d,1)))).reshape(d) + (\n",
    "        np.dot(((np.dot(cov_mat[t+1],np.transpose(phi[k,:][np.newaxis])))/(np.dot(np.dot(phi[k,:][np.newaxis],cov_mat[t+1]),np.transpose(phi[k,:][np.newaxis])) + sigma**2)),w_actual[k,t])).reshape(d)\n",
    "        \n",
    "        # update covariance matrix\n",
    "        cov_mat[t+1] = (cov_mat[t+1] -\n",
    "         ((np.dot(np.dot(np.dot(cov_mat[t+1],np.transpose(phi[k,:][np.newaxis])),phi[k,:][np.newaxis]),cov_mat[t+1]))/(np.dot(np.dot(phi[k,:][np.newaxis],cov_mat[t+1]),np.transpose(phi[k,:][np.newaxis])) + sigma**2)))"
   ]
  },
  {
   "cell_type": "code",
   "execution_count": 33,
   "metadata": {
    "scrolled": true
   },
   "outputs": [
    {
     "data": {
      "text/plain": [
       "<matplotlib.collections.QuadMesh at 0x7fa719e99be0>"
      ]
     },
     "execution_count": 33,
     "metadata": {},
     "output_type": "execute_result"
    },
    {
     "data": {
      "image/png": "[encoded data removed]",
      "text/plain": [
       "<matplotlib.figure.Figure at 0x7fa719f742e8>"
      ]
     },
     "metadata": {},
     "output_type": "display_data"
    }
   ],
   "source": [
    "plt.pcolormesh(A)"
   ]
  },
  {
   "cell_type": "code",
   "execution_count": 37,
   "metadata": {},
   "outputs": [
    {
     "data": {
      "image/png": "[encoded data removed]",
      "text/plain": [
       "<matplotlib.figure.Figure at 0x7fa7090c7a58>"
      ]
     },
     "metadata": {},
     "output_type": "display_data"
    }
   ],
   "source": [
    "plt.pcolor(A[:,1:1000], label = \"edges in chosen path\")\n",
    "plt.xlabel(\"iteration\")\n",
    "plt.ylabel(\"path location in network matrix\")\n",
    "plt.title(\"CombLinTS chosen path at each iteration\")\n",
    "yellow_patch = mpatches.Patch(color='yellow', label='edges in chosen path')\n",
    "plt.legend(handles=[yellow_patch], bbox_to_anchor=(0.53, 0.98), loc=2)\n",
    "plt.savefig('stoch_network_CombLinTS.pdf')"
   ]
  },
  {
   "cell_type": "code",
   "execution_count": 34,
   "metadata": {
    "scrolled": true
   },
   "outputs": [
    {
     "data": {
      "text/plain": [
       "<matplotlib.collections.QuadMesh at 0x7fa719e7c470>"
      ]
     },
     "execution_count": 34,
     "metadata": {},
     "output_type": "execute_result"
    },
    {
     "data": {
      "image/png": "[encoded data removed]",
      "text/plain": [
       "<matplotlib.figure.Figure at 0x7fa71a069208>"
      ]
     },
     "metadata": {},
     "output_type": "display_data"
    }
   ],
   "source": [
    "plt.pcolormesh(np.repeat(dijk(path_means1.reshape(L,))[1],iters).reshape(L,iters))"
   ]
  },
  {
   "cell_type": "code",
   "execution_count": null,
   "metadata": {
    "collapsed": true
   },
   "outputs": [],
   "source": [
    "plt.pcolormesh(np.repeat(dijk(path_means1.reshape(L,))[1],10).reshape(L,10))"
   ]
  },
  {
   "cell_type": "code",
   "execution_count": 39,
   "metadata": {},
   "outputs": [
    {
     "data": {
      "text/plain": [
       "3553.0877447989833"
      ]
     },
     "execution_count": 39,
     "metadata": {},
     "output_type": "execute_result"
    }
   ],
   "source": [
    "np.sum(A*(w_actual))"
   ]
  },
  {
   "cell_type": "code",
   "execution_count": 46,
   "metadata": {
    "scrolled": true
   },
   "outputs": [
    {
     "data": {
      "text/plain": [
       "3517.1562144462278"
      ]
     },
     "execution_count": 46,
     "metadata": {},
     "output_type": "execute_result"
    }
   ],
   "source": [
    "np.sum((np.repeat(dijk(path_means1.reshape(L,))[1],10000).reshape(L,10000))*w_actual)"
   ]
  },
  {
   "cell_type": "markdown",
   "metadata": {},
   "source": [
    "# Adversarial Case"
   ]
  },
  {
   "cell_type": "code",
   "execution_count": 128,
   "metadata": {
    "collapsed": true
   },
   "outputs": [],
   "source": [
    "V = 10\n",
    "diag_zero = np.ones(L).reshape(V, V) - np.diag(np.ones(V))\n",
    "\n",
    "path_means1 = np.zeros(L).reshape(V, V)\n",
    "for i in range(V):\n",
    "    for j in range(V):\n",
    "        path_means1[i,j] = abs(i - j)/V - 1/(V*2)\n",
    "path_means1 = abs(path_means1 * diag_zero)"
   ]
  },
  {
   "cell_type": "code",
   "execution_count": 129,
   "metadata": {
    "collapsed": true
   },
   "outputs": [],
   "source": [
    "iters = 10000\n",
    "L = V*V\n",
    "w = np.zeros((L, iters))\n",
    "lower = 0\n",
    "upper = 1\n",
    "sigma = 0.01\n",
    "path_means2 = pickle.load(open('adv_net1_pm2', 'rb'))\n",
    "for t in range(iters):\n",
    "    # select path means\n",
    "    if t < iters/2:\n",
    "        path_means = path_means1\n",
    "    else:\n",
    "        path_means = path_means2\n",
    "\n",
    "    # draw weights\n",
    "    w_actual[:,t] = np.concatenate(truncnorm.rvs((lower-path_means)/sigma, (upper-path_means)/sigma, loc=path_means, scale=sigma)*diag_zero)"
   ]
  },
  {
   "cell_type": "code",
   "execution_count": 130,
   "metadata": {
    "collapsed": true
   },
   "outputs": [],
   "source": [
    "d=L\n",
    "phi = np.eye(L)\n",
    "w_est = np.zeros((L, iters))\n",
    "#w_actual = np.zeros((L, iters))\n",
    "A = np.zeros((L, iters))\n",
    "theta = np.zeros((d, iters+1))\n",
    "### INIT\n",
    "t=0\n",
    "lamb = 10\n",
    "sigma = 0.1\n",
    "cov_mat = [np.diag([lamb**2]*d)]*(iters+1)\n",
    "theta[:,t] = [0]*d"
   ]
  },
  {
   "cell_type": "code",
   "execution_count": 131,
   "metadata": {},
   "outputs": [
    {
     "name": "stderr",
     "output_type": "stream",
     "text": [
      "100%|██████████| 10000/10000 [01:08<00:00, 146.00it/s]\n"
     ]
    }
   ],
   "source": [
    "### iterate over number of iterations\n",
    "for t in tqdm(range(iters)):\n",
    "    # draw sample theta and use to estimate w\n",
    "    theta_sample = np.random.multivariate_normal(theta[:,t], cov_mat[t])\n",
    "    w_est[:,t] = np.maximum(np.dot(phi, theta_sample),0)\n",
    "    # Solve oracle for w_est and get A_t - can be any number of elements\n",
    "    (edges, A[:,t]) = dijk(w_est[:,t])\n",
    "\n",
    "    # calcualate actual w based on theta_opt plus some noise\n",
    "    #w_actual_noise = np.random.normal(0, sigma_true**2, L)\n",
    "    #w_actual[:,t] = np.maximum(0,w_bar + w_actual_noise)\n",
    "    #w_actual[:,t] = np.concatenate(truncnorm.rvs((lower-path_means1)/sigma_true, (upper-path_means1)/sigma_true, loc=path_means1, scale=sigma_true)*diag_zero)\n",
    "    \n",
    "    # update covariance matrix and theta\n",
    "    # init\n",
    "    theta[:,(t+1)] = theta[:,t]\n",
    "    cov_mat[t+1] = cov_mat[t]\n",
    "    for k in edges:\n",
    "        # update theta\n",
    "        theta[:,(t+1)]=(np.dot(((np.eye(d))-((np.dot(np.dot(cov_mat[t+1],np.transpose(phi[k,:][np.newaxis])),(phi[k,:][np.newaxis]))) / \n",
    "                              (np.dot(np.dot(phi[k,:][np.newaxis],cov_mat[t+1]),np.transpose(phi[k,:][np.newaxis])) + sigma**2))) , \n",
    "                (theta[:,(t+1)].reshape(d,1)))).reshape(d) + (\n",
    "        np.dot(((np.dot(cov_mat[t+1],np.transpose(phi[k,:][np.newaxis])))/(np.dot(np.dot(phi[k,:][np.newaxis],cov_mat[t+1]),np.transpose(phi[k,:][np.newaxis])) + sigma**2)),w_actual[k,t])).reshape(d)\n",
    "        \n",
    "        # update covariance matrix\n",
    "        cov_mat[t+1] = (cov_mat[t+1] -\n",
    "         ((np.dot(np.dot(np.dot(cov_mat[t+1],np.transpose(phi[k,:][np.newaxis])),phi[k,:][np.newaxis]),cov_mat[t+1]))/(np.dot(np.dot(phi[k,:][np.newaxis],cov_mat[t+1]),np.transpose(phi[k,:][np.newaxis])) + sigma**2)))"
   ]
  },
  {
   "cell_type": "code",
   "execution_count": 132,
   "metadata": {},
   "outputs": [
    {
     "data": {
      "text/plain": [
       "<matplotlib.collections.QuadMesh at 0x7fa70365e588>"
      ]
     },
     "execution_count": 132,
     "metadata": {},
     "output_type": "execute_result"
    },
    {
     "data": {
      "image/png": "[encoded data removed]",
      "text/plain": [
       "<matplotlib.figure.Figure at 0x7fa719dc37b8>"
      ]
     },
     "metadata": {},
     "output_type": "display_data"
    }
   ],
   "source": [
    "plt.pcolormesh(A)"
   ]
  },
  {
   "cell_type": "code",
   "execution_count": 118,
   "metadata": {
    "collapsed": true
   },
   "outputs": [],
   "source": [
    "a=np.repeat(dijk(path_means1.reshape(L,))[1],iters/2).reshape(L,int(iters/2)).shape"
   ]
  },
  {
   "cell_type": "code",
   "execution_count": 119,
   "metadata": {
    "collapsed": true
   },
   "outputs": [],
   "source": [
    "b=np.repeat(dijk(path_means2.reshape(L,))[1],iters/2).reshape(L,int(iters/2)).shape"
   ]
  },
  {
   "cell_type": "code",
   "execution_count": 133,
   "metadata": {},
   "outputs": [
    {
     "data": {
      "text/plain": [
       "5907.2389979619702"
      ]
     },
     "execution_count": 133,
     "metadata": {},
     "output_type": "execute_result"
    }
   ],
   "source": [
    "np.sum(A*(w_actual))"
   ]
  },
  {
   "cell_type": "code",
   "execution_count": 137,
   "metadata": {},
   "outputs": [
    {
     "name": "stdout",
     "output_type": "stream",
     "text": [
      "482.373456357\n",
      "1488.75401318\n",
      "494.914726588\n"
     ]
    }
   ],
   "source": [
    "print(np.sum(A[:,:1000]*w_actual[:,:1000]))\n",
    "print(np.sum(A[:,4500:5500]*w_actual[:,4500:5500]))\n",
    "print(np.sum(A[:,9000:]*w_actual[:,9000:]))"
   ]
  },
  {
   "cell_type": "markdown",
   "metadata": {},
   "source": [
    "# Network 2"
   ]
  },
  {
   "cell_type": "code",
   "execution_count": 180,
   "metadata": {
    "collapsed": true
   },
   "outputs": [],
   "source": [
    "iters = 10000\n",
    "path_means3 = np.ones(L).reshape(V, V)\n",
    "for i in range(V):\n",
    "    for j in range(V):\n",
    "        path_means3[i,j] = abs(i - j)/V + 5/(V*2)\n",
    "path_means3 = abs(path_means3 * diag_zero)\n",
    "\n",
    "path_means4 = np.ones(L).reshape(V, V)\n",
    "for i in range(V-1):\n",
    "    path_means4[i, i+1] = 1/(V*2)\n",
    "\n",
    "# trunc norm params\n",
    "lower = 0\n",
    "upper = 1\n",
    "sigma = 0.01\n",
    "\n",
    "w = np.zeros((L, iters))\n",
    "for t in range(iters):\n",
    "    # select path means\n",
    "    if int(t/1000)/2==int(int(t/1000)/2):\n",
    "        path_means = path_means3\n",
    "    else:\n",
    "        path_means = path_means4\n",
    "\n",
    "    # draw weights\n",
    "    w_actual[:,t] = np.concatenate(truncnorm.rvs((lower-path_means)/sigma, (upper-path_means)/sigma, loc=path_means, scale=sigma)*diag_zero)"
   ]
  },
  {
   "cell_type": "code",
   "execution_count": 181,
   "metadata": {
    "collapsed": true
   },
   "outputs": [],
   "source": [
    "d=L\n",
    "phi = np.eye(L)\n",
    "w_est = np.zeros((L, iters))\n",
    "#w_actual = np.zeros((L, iters))\n",
    "A = np.zeros((L, iters))\n",
    "theta = np.zeros((d, iters+1))\n",
    "### INIT\n",
    "t=0\n",
    "lamb = 10\n",
    "sigma = 1\n",
    "cov_mat = [np.diag([lamb**2]*d)]*(iters+1)\n",
    "theta[:,t] = [0]*d"
   ]
  },
  {
   "cell_type": "code",
   "execution_count": 182,
   "metadata": {},
   "outputs": [
    {
     "name": "stderr",
     "output_type": "stream",
     "text": [
      "100%|██████████| 10000/10000 [00:37<00:00, 269.27it/s]\n"
     ]
    }
   ],
   "source": [
    "### iterate over number of iterations\n",
    "for t in tqdm(range(iters)):\n",
    "    # draw sample theta and use to estimate w\n",
    "    theta_sample = np.random.multivariate_normal(theta[:,t], cov_mat[t])\n",
    "    w_est[:,t] = np.maximum(np.dot(phi, theta_sample),0)\n",
    "    # Solve oracle for w_est and get A_t - can be any number of elements\n",
    "    (edges, A[:,t]) = dijk(w_est[:,t])\n",
    "\n",
    "    # calcualate actual w based on theta_opt plus some noise\n",
    "    #w_actual_noise = np.random.normal(0, sigma_true**2, L)\n",
    "    #w_actual[:,t] = np.maximum(0,w_bar + w_actual_noise)\n",
    "    #w_actual[:,t] = np.concatenate(truncnorm.rvs((lower-path_means1)/sigma_true, (upper-path_means1)/sigma_true, loc=path_means1, scale=sigma_true)*diag_zero)\n",
    "    \n",
    "    # update covariance matrix and theta\n",
    "    # init\n",
    "    theta[:,(t+1)] = theta[:,t]\n",
    "    cov_mat[t+1] = cov_mat[t]\n",
    "    for k in edges:\n",
    "        # update theta\n",
    "        theta[:,(t+1)]=(np.dot(((np.eye(d))-((np.dot(np.dot(cov_mat[t+1],np.transpose(phi[k,:][np.newaxis])),(phi[k,:][np.newaxis]))) / \n",
    "                              (np.dot(np.dot(phi[k,:][np.newaxis],cov_mat[t+1]),np.transpose(phi[k,:][np.newaxis])) + sigma**2))) , \n",
    "                (theta[:,(t+1)].reshape(d,1)))).reshape(d) + (\n",
    "        np.dot(((np.dot(cov_mat[t+1],np.transpose(phi[k,:][np.newaxis])))/(np.dot(np.dot(phi[k,:][np.newaxis],cov_mat[t+1]),np.transpose(phi[k,:][np.newaxis])) + sigma**2)),w_actual[k,t])).reshape(d)\n",
    "        \n",
    "        # update covariance matrix\n",
    "        cov_mat[t+1] = (cov_mat[t+1] -\n",
    "         ((np.dot(np.dot(np.dot(cov_mat[t+1],np.transpose(phi[k,:][np.newaxis])),phi[k,:][np.newaxis]),cov_mat[t+1]))/(np.dot(np.dot(phi[k,:][np.newaxis],cov_mat[t+1]),np.transpose(phi[k,:][np.newaxis])) + sigma**2)))"
   ]
  },
  {
   "cell_type": "code",
   "execution_count": 183,
   "metadata": {
    "scrolled": true
   },
   "outputs": [
    {
     "data": {
      "text/plain": [
       "<matplotlib.collections.QuadMesh at 0x7fa719b56860>"
      ]
     },
     "execution_count": 183,
     "metadata": {},
     "output_type": "execute_result"
    },
    {
     "data": {
      "image/png": "[encoded data removed]",
      "text/plain": [
       "<matplotlib.figure.Figure at 0x7fa70941b780>"
      ]
     },
     "metadata": {},
     "output_type": "display_data"
    }
   ],
   "source": [
    "plt.pcolormesh(A)"
   ]
  },
  {
   "cell_type": "code",
   "execution_count": 184,
   "metadata": {
    "scrolled": true
   },
   "outputs": [
    {
     "data": {
      "text/plain": [
       "10828.84996134283"
      ]
     },
     "execution_count": 184,
     "metadata": {},
     "output_type": "execute_result"
    }
   ],
   "source": [
    "np.sum(A*(w_actual))"
   ]
  },
  {
   "cell_type": "code",
   "execution_count": 185,
   "metadata": {},
   "outputs": [
    {
     "name": "stdout",
     "output_type": "stream",
     "text": [
      "1489.0963299\n",
      "1018.82804655\n",
      "1001.03837772\n"
     ]
    }
   ],
   "source": [
    "print(np.sum(A[:,:1000]*w_actual[:,:1000]))\n",
    "print(np.sum(A[:,4500:5500]*w_actual[:,4500:5500]))\n",
    "print(np.sum(A[:,9000:]*w_actual[:,9000:]))"
   ]
  },
  {
   "cell_type": "code",
   "execution_count": 187,
   "metadata": {},
   "outputs": [
    {
     "name": "stderr",
     "output_type": "stream",
     "text": [
      "100%|██████████| 1000/1000 [00:01<00:00, 739.03it/s]\n"
     ]
    }
   ],
   "source": [
    "adversarial_network2_CLTS_cumul_cost = np.zeros(int(iters/10))\n",
    "for t in tqdm(range(0, iters, 10)):\n",
    "    adversarial_network2_CLTS_cumul_cost[int(t/10)] = np.sum(A[:,:t]*w_actual[:,:t])\n",
    "pickle.dump(adversarial_network2_CLTS_cumul_cost, open('net2_clts_cost', 'wb'))"
   ]
  },
  {
   "cell_type": "markdown",
   "metadata": {},
   "source": [
    "# Network 3"
   ]
  },
  {
   "cell_type": "code",
   "execution_count": 174,
   "metadata": {
    "collapsed": true
   },
   "outputs": [],
   "source": [
    "iters = 10000\n",
    "# setup different 'shifts' to the sine wave so that different paths have different starting points on the wave\n",
    "sine_wave_shift = np.zeros(L).reshape(V, V)\n",
    "for i in range(V):\n",
    "    for j in range(V):\n",
    "        sine_wave_shift[i,j] = abs(i - j)/(V)\n",
    "\n",
    "# parameter which determines how many repetitions of the sine wave\n",
    "sine_wave_reps = 2\n",
    "\n",
    "# set an adjustment to subtract from each path weight mean to encourage longer paths\n",
    "adjust = 0.00\n",
    "\n",
    "# setting trunc norm means for each iteration\n",
    "trunc_norm_means = np.zeros((L, iters))\n",
    "for t in range(iters):\n",
    "    trunc_norm_means[:,t] = np.concatenate(((np.sin((sine_wave_shift+t*sine_wave_reps/(iters))*np.pi)+1)/2-adjust)*diag_zero)\n",
    "\n",
    "# draw weights for entire period\n",
    "# trunc norm params\n",
    "lower = 0\n",
    "upper = 1\n",
    "sigma = 0.1\n",
    "\n",
    "w_actual = truncnorm.rvs((lower-trunc_norm_means)/sigma, (upper-trunc_norm_means)/sigma, loc=trunc_norm_means, scale=sigma)\n"
   ]
  },
  {
   "cell_type": "code",
   "execution_count": 175,
   "metadata": {
    "collapsed": true
   },
   "outputs": [],
   "source": [
    "d=L\n",
    "phi = np.eye(L)\n",
    "w_est = np.zeros((L, iters))\n",
    "#w_actual = np.zeros((L, iters))\n",
    "A = np.zeros((L, iters))\n",
    "theta = np.zeros((d, iters+1))\n",
    "### INIT\n",
    "t=0\n",
    "lamb = 10\n",
    "sigma = 50\n",
    "cov_mat = [np.diag([lamb**2]*d)]*(iters+1)\n",
    "theta[:,t] = [0]*d"
   ]
  },
  {
   "cell_type": "code",
   "execution_count": 176,
   "metadata": {},
   "outputs": [
    {
     "name": "stderr",
     "output_type": "stream",
     "text": [
      "100%|██████████| 10000/10000 [00:42<00:00, 237.13it/s]\n"
     ]
    }
   ],
   "source": [
    "### iterate over number of iterations\n",
    "for t in tqdm(range(iters)):\n",
    "    # draw sample theta and use to estimate w\n",
    "    theta_sample = np.random.multivariate_normal(theta[:,t], cov_mat[t])\n",
    "    w_est[:,t] = np.maximum(np.dot(phi, theta_sample),0)\n",
    "    # Solve oracle for w_est and get A_t - can be any number of elements\n",
    "    (edges, A[:,t]) = dijk(w_est[:,t])\n",
    "\n",
    "    # calcualate actual w based on theta_opt plus some noise\n",
    "    #w_actual_noise = np.random.normal(0, sigma_true**2, L)\n",
    "    #w_actual[:,t] = np.maximum(0,w_bar + w_actual_noise)\n",
    "    #w_actual[:,t] = np.concatenate(truncnorm.rvs((lower-path_means1)/sigma_true, (upper-path_means1)/sigma_true, loc=path_means1, scale=sigma_true)*diag_zero)\n",
    "    \n",
    "    # update covariance matrix and theta\n",
    "    # init\n",
    "    theta[:,(t+1)] = theta[:,t]\n",
    "    cov_mat[t+1] = cov_mat[t]\n",
    "    for k in edges:\n",
    "        # update theta\n",
    "        theta[:,(t+1)]=(np.dot(((np.eye(d))-((np.dot(np.dot(cov_mat[t+1],np.transpose(phi[k,:][np.newaxis])),(phi[k,:][np.newaxis]))) / \n",
    "                              (np.dot(np.dot(phi[k,:][np.newaxis],cov_mat[t+1]),np.transpose(phi[k,:][np.newaxis])) + sigma**2))) , \n",
    "                (theta[:,(t+1)].reshape(d,1)))).reshape(d) + (\n",
    "        np.dot(((np.dot(cov_mat[t+1],np.transpose(phi[k,:][np.newaxis])))/(np.dot(np.dot(phi[k,:][np.newaxis],cov_mat[t+1]),np.transpose(phi[k,:][np.newaxis])) + sigma**2)),w_actual[k,t])).reshape(d)\n",
    "        \n",
    "        # update covariance matrix\n",
    "        cov_mat[t+1] = (cov_mat[t+1] -\n",
    "         ((np.dot(np.dot(np.dot(cov_mat[t+1],np.transpose(phi[k,:][np.newaxis])),phi[k,:][np.newaxis]),cov_mat[t+1]))/(np.dot(np.dot(phi[k,:][np.newaxis],cov_mat[t+1]),np.transpose(phi[k,:][np.newaxis])) + sigma**2)))"
   ]
  },
  {
   "cell_type": "code",
   "execution_count": 177,
   "metadata": {},
   "outputs": [
    {
     "data": {
      "text/plain": [
       "<matplotlib.collections.QuadMesh at 0x7fa719cb8240>"
      ]
     },
     "execution_count": 177,
     "metadata": {},
     "output_type": "execute_result"
    },
    {
     "data": {
      "image/png": "[encoded data removed]",
      "text/plain": [
       "<matplotlib.figure.Figure at 0x7fa719afa860>"
      ]
     },
     "metadata": {},
     "output_type": "display_data"
    }
   ],
   "source": [
    "plt.pcolormesh(A)"
   ]
  },
  {
   "cell_type": "code",
   "execution_count": 178,
   "metadata": {
    "scrolled": false
   },
   "outputs": [
    {
     "data": {
      "text/plain": [
       "9488.7643941921961"
      ]
     },
     "execution_count": 178,
     "metadata": {},
     "output_type": "execute_result"
    }
   ],
   "source": [
    "np.sum(A*(w_actual))"
   ]
  },
  {
   "cell_type": "code",
   "execution_count": 179,
   "metadata": {},
   "outputs": [
    {
     "name": "stdout",
     "output_type": "stream",
     "text": [
      "1338.20902733\n",
      "406.48675308\n",
      "1593.74574147\n"
     ]
    }
   ],
   "source": [
    "print(np.sum(A[:,:1000]*w_actual[:,:1000]))\n",
    "print(np.sum(A[:,4500:5500]*w_actual[:,4500:5500]))\n",
    "print(np.sum(A[:,9000:]*w_actual[:,9000:]))"
   ]
  },
  {
   "cell_type": "markdown",
   "metadata": {
    "collapsed": true
   },
   "source": [
    "# Basic case"
   ]
  },
  {
   "cell_type": "code",
   "execution_count": 72,
   "metadata": {
    "collapsed": true
   },
   "outputs": [],
   "source": [
    "### Set parameters\n",
    "L = 20\n",
    "K = 5\n",
    "iters = 10000\n",
    "bern_means = np.array([x/L for x in range(L)])\n",
    "#U = np.zeros((L, iters))\n",
    "A = np.zeros((L, iters))\n",
    "w_actual = np.zeros((L, iters))\n",
    "#w_observed = np.zeros((L, iters))\n",
    "for t in range(iters):\n",
    "    # Draw new weights and store in w\n",
    "    w_actual[:,t] = np.random.binomial(1, bern_means)\n",
    "\n",
    "t = 0\n",
    "# Initial observation of weight for each element\n",
    "#w_est[:,t] = w_actual[:,t]"
   ]
  },
  {
   "cell_type": "code",
   "execution_count": 73,
   "metadata": {},
   "outputs": [
    {
     "data": {
      "text/plain": [
       "array([ 0.,  0.,  0.,  0.,  1.,  0.,  0.,  1.,  0.,  0.,  0.,  0.,  0.,\n",
       "        1.,  0.,  1.,  1.,  0.,  1.,  1.])"
      ]
     },
     "execution_count": 73,
     "metadata": {},
     "output_type": "execute_result"
    }
   ],
   "source": [
    "w_actual[:,1]"
   ]
  },
  {
   "cell_type": "code",
   "execution_count": 74,
   "metadata": {},
   "outputs": [],
   "source": [
    "#lambda_true = 0.1 # (used to generate true coefficients of Φ which are then used to calculate w̄ )\n",
    "#sigma_true = 0.2 # (used when adding noise to true w at each iteration)\n",
    "d = L\n",
    "#phi = np.random.normal(0, 1, (L,d))\n",
    "phi = np.eye(L)\n",
    "#phi = np.random.uniform(0, 1, L*d).reshape(L,d)\n",
    "#theta_opt = np.random.multivariate_normal([0]*d, np.diag([lambda_true**2]*d))\n",
    "w_bar = bern_means.reshape(L,)\n",
    "#w_bar = np.array([0,100,1,100,5,0,5,1,5,1,0,100,5,5,5,0])\n",
    "#w_bar = np.array([0,10,1,100,5,0,5,1,5,1,0,100,5,5,5,0])\n",
    "theta_opt = np.linalg.solve(phi,w_bar)"
   ]
  },
  {
   "cell_type": "code",
   "execution_count": 75,
   "metadata": {
    "collapsed": true
   },
   "outputs": [],
   "source": [
    "w_est = np.zeros((L, iters))\n",
    "theta = np.zeros((d, iters+1))\n",
    "### INIT\n",
    "t=0\n",
    "lamb = 10\n",
    "sigma = 1\n",
    "cov_mat = [np.diag([lamb**2]*d)]*(iters+1)\n",
    "theta[:,t] = [0]*d"
   ]
  },
  {
   "cell_type": "code",
   "execution_count": 76,
   "metadata": {},
   "outputs": [
    {
     "name": "stderr",
     "output_type": "stream",
     "text": [
      "100%|██████████| 10000/10000 [00:05<00:00, 1782.63it/s]\n"
     ]
    }
   ],
   "source": [
    "### iterate over number of iterations\n",
    "for t in tqdm(range(iters)):\n",
    "    # draw sample theta and use to estimate w\n",
    "    theta_sample = np.random.multivariate_normal(theta[:,t], cov_mat[t])\n",
    "    w_est[:,t] = np.dot(phi, theta_sample)\n",
    "    # Solve oracle for w_est and get A_t - can be any number of elements\n",
    "    (edges, A[:,t]) = myorac(w_est[:,t],K)\n",
    "    \n",
    "\n",
    "    # calcualate actual w based on theta_opt plus some noise\n",
    "    #w_actual_noise = np.random.normal(0, sigma_true**2, L)\n",
    "    #w_actual[:,t] = np.maximum(0,w_bar + w_actual_noise)\n",
    "    #w_actual[:,t] = np.concatenate(truncnorm.rvs((lower-path_means1)/sigma_true, (upper-path_means1)/sigma_true, loc=path_means1, scale=sigma_true)*diag_zero)\n",
    "    \n",
    "    # update covariance matrix and theta\n",
    "    # init\n",
    "    theta[:,(t+1)] = theta[:,t]\n",
    "    cov_mat[t+1] = cov_mat[t]\n",
    "    for k in edges:\n",
    "        # update theta\n",
    "        theta[:,(t+1)]=(np.dot(((np.eye(d))-((np.dot(np.dot(cov_mat[t+1],np.transpose(phi[k,:][np.newaxis])),(phi[k,:][np.newaxis]))) / \n",
    "                              (np.dot(np.dot(phi[k,:][np.newaxis],cov_mat[t+1]),np.transpose(phi[k,:][np.newaxis])) + sigma**2))) , \n",
    "                (theta[:,(t+1)].reshape(d,1)))).reshape(d) + (\n",
    "        np.dot(((np.dot(cov_mat[t+1],np.transpose(phi[k,:][np.newaxis])))/(np.dot(np.dot(phi[k,:][np.newaxis],cov_mat[t+1]),np.transpose(phi[k,:][np.newaxis])) + sigma**2)),w_actual[k,t])).reshape(d)\n",
    "        \n",
    "        # update covariance matrix\n",
    "        cov_mat[t+1] = (cov_mat[t+1] -\n",
    "         ((np.dot(np.dot(np.dot(cov_mat[t+1],np.transpose(phi[k,:][np.newaxis])),phi[k,:][np.newaxis]),cov_mat[t+1]))/(np.dot(np.dot(phi[k,:][np.newaxis],cov_mat[t+1]),np.transpose(phi[k,:][np.newaxis])) + sigma**2)))"
   ]
  },
  {
   "cell_type": "code",
   "execution_count": 77,
   "metadata": {
    "collapsed": true
   },
   "outputs": [],
   "source": [
    "def myorac(w,K):\n",
    "    edges = np.argsort(w)[-K:]\n",
    "    #A = np.arange(len(w))\n",
    "    A = np.zeros(len(w))\n",
    "    A[edges] = 1\n",
    "    return(edges, A)"
   ]
  },
  {
   "cell_type": "code",
   "execution_count": 78,
   "metadata": {},
   "outputs": [
    {
     "data": {
      "text/plain": [
       "<matplotlib.collections.QuadMesh at 0x7fa73ccd21d0>"
      ]
     },
     "execution_count": 78,
     "metadata": {},
     "output_type": "execute_result"
    },
    {
     "data": {
      "image/png": "[encoded data removed]",
      "text/plain": [
       "<matplotlib.figure.Figure at 0x7fa73bbcce48>"
      ]
     },
     "metadata": {},
     "output_type": "display_data"
    }
   ],
   "source": [
    "plt.pcolormesh(A)"
   ]
  },
  {
   "cell_type": "code",
   "execution_count": 79,
   "metadata": {},
   "outputs": [
    {
     "data": {
      "image/png": "[encoded data removed]",
      "text/plain": [
       "<matplotlib.figure.Figure at 0x7fa73ccbba90>"
      ]
     },
     "metadata": {},
     "output_type": "display_data"
    }
   ],
   "source": [
    "# plot development of selected elements\n",
    "plt.pcolor(A[:,1:100], label = \"observed\")\n",
    "plt.xlabel(\"iteration\")\n",
    "plt.ylabel(\"vector element\")\n",
    "plt.title(\"CombLinTS exploration (first 100 iterations)\")\n",
    "yellow_patch = mpatches.Patch(color='yellow', label='observed')\n",
    "plt.legend(handles=[yellow_patch], bbox_to_anchor=(0.73, 0.13), loc=2)\n",
    "plt.savefig('basicCombLinTS_100iters.pdf')\n",
    "\n",
    "plt.pcolor(A[:,100:200], label = \"observed\")\n",
    "plt.xlabel(\"iteration\")\n",
    "plt.ylabel(\"vector element\")\n",
    "plt.title(\"CombLinTS exploration (iterations 101 to 200)\")\n",
    "yellow_patch = mpatches.Patch(color='yellow', label='observed')\n",
    "plt.legend(handles=[yellow_patch], bbox_to_anchor=(0.73, 0.13), loc=2)\n",
    "plt.savefig('basicCombLinTS_100_200iters.pdf')\n",
    "\n",
    "plt.pcolor(A[:,4000:4100], label = \"observed\")\n",
    "plt.xlabel(\"iteration\")\n",
    "plt.ylabel(\"vector element\")\n",
    "plt.title(\"CombLinTS exploration (iterations 4001 to 4100)\")\n",
    "yellow_patch = mpatches.Patch(color='yellow', label='observed')\n",
    "plt.legend(handles=[yellow_patch], bbox_to_anchor=(0.73, 0.13), loc=2)\n",
    "plt.savefig('basicCombUCB1_4000_4100iters.pdf')"
   ]
  },
  {
   "cell_type": "code",
   "execution_count": 80,
   "metadata": {
    "collapsed": true
   },
   "outputs": [],
   "source": [
    "best_return = np.sum(w_actual[-K:,:])"
   ]
  },
  {
   "cell_type": "code",
   "execution_count": 46,
   "metadata": {},
   "outputs": [
    {
     "data": {
      "text/plain": [
       "(20, 10000)"
      ]
     },
     "execution_count": 46,
     "metadata": {},
     "output_type": "execute_result"
    }
   ],
   "source": [
    "w_actual.shape"
   ]
  },
  {
   "cell_type": "code",
   "execution_count": 81,
   "metadata": {},
   "outputs": [
    {
     "data": {
      "text/plain": [
       "42487.0"
      ]
     },
     "execution_count": 81,
     "metadata": {},
     "output_type": "execute_result"
    }
   ],
   "source": [
    "best_return"
   ]
  },
  {
   "cell_type": "code",
   "execution_count": 82,
   "metadata": {},
   "outputs": [
    {
     "data": {
      "text/plain": [
       "42515.552449872848"
      ]
     },
     "execution_count": 82,
     "metadata": {},
     "output_type": "execute_result"
    }
   ],
   "source": [
    "np.sum(w_est[-K:])"
   ]
  },
  {
   "cell_type": "code",
   "execution_count": 36,
   "metadata": {},
   "outputs": [
    {
     "data": {
      "text/plain": [
       "(20, 10000)"
      ]
     },
     "execution_count": 36,
     "metadata": {},
     "output_type": "execute_result"
    }
   ],
   "source": [
    "w_est.shape"
   ]
  },
  {
   "cell_type": "code",
   "execution_count": 37,
   "metadata": {},
   "outputs": [
    {
     "data": {
      "text/plain": [
       "array([ 13.6058643 , -12.02575263,   1.20389459,  -5.49325296,\n",
       "        -0.66836392,  -6.09182728,   9.88223842,   0.03196445,\n",
       "         0.96779063,   0.18199991,   1.06039821,  -2.78609966,\n",
       "        -0.48598709,   0.91116149,  16.28429995,   1.00708181,\n",
       "        -9.35767965,  10.89321251,  -7.49667006,  18.60439401])"
      ]
     },
     "execution_count": 37,
     "metadata": {},
     "output_type": "execute_result"
    }
   ],
   "source": [
    "w_est[:,1]"
   ]
  },
  {
   "cell_type": "code",
   "execution_count": 83,
   "metadata": {},
   "outputs": [
    {
     "data": {
      "text/plain": [
       "42018.0"
      ]
     },
     "execution_count": 83,
     "metadata": {},
     "output_type": "execute_result"
    }
   ],
   "source": [
    "np.sum(A*w_actual)"
   ]
  },
  {
   "cell_type": "code",
   "execution_count": 42,
   "metadata": {},
   "outputs": [
    {
     "data": {
      "text/plain": [
       "array([ 1.,  0.,  0.,  0.,  0.,  0.,  1.,  0.,  0.,  0.,  0.,  0.,  0.,\n",
       "        0.,  1.,  0.,  0.,  1.,  0.,  1.])"
      ]
     },
     "execution_count": 42,
     "metadata": {},
     "output_type": "execute_result"
    }
   ],
   "source": [
    "A[:,1]"
   ]
  },
  {
   "cell_type": "code",
   "execution_count": 59,
   "metadata": {},
   "outputs": [
    {
     "data": {
      "text/plain": [
       "(array([17, 18, 19]),\n",
       " array([ 0.,  0.,  0.,  0.,  0.,  0.,  0.,  0.,  0.,  0.,  0.,  0.,  0.,\n",
       "         0.,  0.,  0.,  0.,  1.,  1.,  1.]))"
      ]
     },
     "execution_count": 59,
     "metadata": {},
     "output_type": "execute_result"
    }
   ],
   "source": [
    "myorac(bern_means,3)"
   ]
  },
  {
   "cell_type": "code",
   "execution_count": 60,
   "metadata": {},
   "outputs": [
    {
     "data": {
      "text/plain": [
       "array([ 0.  ,  0.05,  0.1 ,  0.15,  0.2 ,  0.25,  0.3 ,  0.35,  0.4 ,\n",
       "        0.45,  0.5 ,  0.55,  0.6 ,  0.65,  0.7 ,  0.75,  0.8 ,  0.85,\n",
       "        0.9 ,  0.95])"
      ]
     },
     "execution_count": 60,
     "metadata": {},
     "output_type": "execute_result"
    }
   ],
   "source": [
    "bern_means"
   ]
  },
  {
   "cell_type": "code",
   "execution_count": null,
   "metadata": {
    "collapsed": true
   },
   "outputs": [],
   "source": []
  }
 ],
 "metadata": {
  "kernelspec": {
   "display_name": "Python 3",
   "language": "python",
   "name": "python3"
  },
  "language_info": {
   "codemirror_mode": {
    "name": "ipython",
    "version": 3
   },
   "file_extension": ".py",
   "mimetype": "text/x-python",
   "name": "python",
   "nbconvert_exporter": "python",
   "pygments_lexer": "ipython3",
   "version": "3.5.2"
  },
  "varInspector": {
   "cols": {
    "lenName": 16,
    "lenType": 16,
    "lenVar": 40
   },
   "kernels_config": {
    "python": {
     "delete_cmd_postfix": "",
     "delete_cmd_prefix": "del ",
     "library": "var_list.py",
     "varRefreshCmd": "print(var_dic_list())"
    },
    "r": {
     "delete_cmd_postfix": ") ",
     "delete_cmd_prefix": "rm(",
     "library": "var_list.r",
     "varRefreshCmd": "cat(var_dic_list()) "
    }
   },
   "types_to_exclude": [
    "module",
    "function",
    "builtin_function_or_method",
    "instance",
    "_Feature"
   ],
   "window_display": false
  }
 },
 "nbformat": 4,
 "nbformat_minor": 2
}
