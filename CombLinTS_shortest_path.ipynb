{
 "cells": [
  {
   "cell_type": "code",
   "execution_count": 36,
   "metadata": {},
   "outputs": [],
   "source": [
    "# Libraries\n",
    "import numpy as np\n",
    "import matplotlib.pyplot as plt\n",
    "from tqdm import tqdm\n",
    "import math\n",
    "import scipy.stats as stats\n",
    "import pickle\n",
    "import matplotlib.patches as mpatches\n",
    "truncnorm = stats.truncnorm\n",
    "truncexp = stats.truncexpon\n",
    "%matplotlib inline"
   ]
  },
  {
   "cell_type": "code",
   "execution_count": 28,
   "metadata": {
    "collapsed": true
   },
   "outputs": [],
   "source": [
    "# Oracle for a given weights matrix\n",
    "def dijk(w):\n",
    "    # Dijkstra\n",
    "    # set initial conditions\n",
    "    L = int(math.sqrt(len(w))) # number of vertices\n",
    "    w = w.reshape(L,L)\n",
    "    unvisited = list(range(L))\n",
    "    distances = [np.inf]*L\n",
    "    distances[0] = 0\n",
    "    paths = [[0]]*L\n",
    "\n",
    "    while len(unvisited) > 0:\n",
    "        i = np.argmin([distances[i] for i in unvisited])\n",
    "        v = unvisited[i]\n",
    "        unvisited.pop(i)\n",
    "        for u in range(L):\n",
    "            if distances[u] > distances[v] + w[v, u]:\n",
    "                distances[u] = distances[v] + w[v, u]\n",
    "                paths[u] = paths[v][:]\n",
    "                paths[u].append(u)\n",
    "    \n",
    "    short = paths[-1]\n",
    "    # store observed paths\n",
    "    A = np.arange(L**2).reshape(L,L)\n",
    "    out = []\n",
    "    for i in range(len(short)-1):\n",
    "        out.append(A[short[i], short[i+1]])\n",
    "        \n",
    "    A = np.zeros(L**2)\n",
    "    A[out] = 1\n",
    "    return(out, A)"
   ]
  },
  {
   "cell_type": "code",
   "execution_count": null,
   "metadata": {
    "collapsed": true
   },
   "outputs": [],
   "source": [
    "V = 10\n",
    "L = V*V\n",
    "diag_zero = np.ones(L).reshape(V, V) - np.diag(np.ones(V))\n",
    "path_means1 = np.zeros(L).reshape(V, V)\n",
    "for i in range(V):\n",
    "    for j in range(V):\n",
    "        path_means1[i,j] = abs(i - j)/V - 1/(V*2)\n",
    "path_means1 = abs(path_means1 * diag_zero)*10\n",
    "upper = np.amax(path_means1)\n",
    "lower = np.amin(path_means1)\n",
    "path_means2 = np.random.uniform(0, 1, L).reshape(V, V) * diag_zero\n",
    "path_means2[0,-1] = 1 # to try to make sure best path isn't to go straight to the end!"
   ]
  },
  {
   "cell_type": "code",
   "execution_count": 29,
   "metadata": {
    "scrolled": true
   },
   "outputs": [
    {
     "data": {
      "text/plain": [
       "<matplotlib.collections.QuadMesh at 0x7fa719f35cf8>"
      ]
     },
     "execution_count": 29,
     "metadata": {},
     "output_type": "execute_result"
    },
    {
     "data": {
      "image/png": "[encoded data removed]",
      "text/plain": [
       "<matplotlib.figure.Figure at 0x7fa71a2b8da0>"
      ]
     },
     "metadata": {},
     "output_type": "display_data"
    }
   ],
   "source": [
    "path_means1 = pickle.load( open( 'stoch_path_means', 'rb' ) )\n",
    "w_actual = pickle.load(open('stoch_weights', 'rb'))\n",
    "V = path_means1.shape[0]\n",
    "L = V*V\n",
    "lower=0\n",
    "upper=1\n",
    "sigma=0.1\n",
    "path_means1 = truncnorm.stats(np.concatenate(lower-path_means1)/sigma, np.concatenate(upper-path_means1)/sigma, loc=np.concatenate(path_means1), scale=sigma, moments='m').reshape(V, V)\n",
    "plt.pcolormesh(np.repeat(dijk(path_means1.reshape(L,))[1],10).reshape(L,10))"
   ]
  },
  {
   "cell_type": "code",
   "execution_count": null,
   "metadata": {},
   "outputs": [],
   "source": [
    "np.sum(path_means1.reshape(L,)[dijk(path_means1.reshape(L,))[1].astype(bool)])"
   ]
  },
  {
   "cell_type": "code",
   "execution_count": 30,
   "metadata": {
    "collapsed": true
   },
   "outputs": [],
   "source": [
    "# Wan, Kveton and Ashkan 2015 CombLinTS algorithm\n",
    "# Should work better than other algorithms when L is very large as doesn't depend on L\n",
    "# Makes use of Lxd generalization matrix Φ of features for each element of E\n",
    "# w̄ lies on or close to subspace span of Φ\n",
    "# define θ∗ = argmin_θ ||w̄ − Φθ||_2\n",
    "# could think of features as for example knowledge of other activities/events which affects outcome - \n",
    "# like characteristics of movies which could predict rating??\n",
    "\n",
    "\n",
    "# Scenario: User knows Φ matrix of activities/events\n",
    "# At each stage user samples coefficients θ used to estimate w̄\n",
    "# and uses this estimate with oracle to determine which move to play\n",
    "# observes weight for each play and updates parameters of θ sampling accordingly\n",
    "\n",
    "### Set parameters\n",
    "#L = 16 # 4x4 grid with 16 possible edges\n",
    "lambda_true = 0.1 # (used to generate true coefficients of Φ which are then used to calculate w̄ )\n",
    "sigma_true = 0.2 # (used when adding noise to true w at each iteration)\n",
    "d = L\n",
    "#phi = np.random.normal(0, 1, (L,d))\n",
    "phi = np.eye(L)\n",
    "#phi = np.random.uniform(0, 1, L*d).reshape(L,d)\n",
    "#theta_opt = np.random.multivariate_normal([0]*d, np.diag([lambda_true**2]*d))\n",
    "w_bar = path_means1.reshape(L,)\n",
    "#w_bar = np.array([0,100,1,100,5,0,5,1,5,1,0,100,5,5,5,0])\n",
    "#w_bar = np.array([0,10,1,100,5,0,5,1,5,1,0,100,5,5,5,0])\n",
    "theta_opt = np.linalg.solve(phi,w_bar)"
   ]
  },
  {
   "cell_type": "code",
   "execution_count": 31,
   "metadata": {
    "collapsed": true
   },
   "outputs": [],
   "source": [
    "# Shortest path case for toy example\n",
    "iters = 10000\n",
    "w_est = np.zeros((L, iters))\n",
    "#w_actual = np.zeros((L, iters))\n",
    "A = np.zeros((L, iters))\n",
    "theta = np.zeros((d, iters+1))\n",
    "### INIT\n",
    "t=0\n",
    "lamb = 10\n",
    "sigma = 0.1\n",
    "cov_mat = [np.diag([lamb**2]*d)]*(iters+1)\n",
    "theta[:,t] = [0]*d"
   ]
  },
  {
   "cell_type": "code",
   "execution_count": 32,
   "metadata": {},
   "outputs": [
    {
     "name": "stderr",
     "output_type": "stream",
     "text": [
      "100%|██████████| 10000/10000 [00:39<00:00, 252.37it/s]\n"
     ]
    }
   ],
   "source": [
    "### iterate over number of iterations\n",
    "for t in tqdm(range(iters)):\n",
    "    # draw sample theta and use to estimate w\n",
    "    theta_sample = np.random.multivariate_normal(theta[:,t], cov_mat[t])\n",
    "    w_est[:,t] = np.maximum(np.dot(phi, theta_sample),0)\n",
    "    # Solve oracle for w_est and get A_t - can be any number of elements\n",
    "    (edges, A[:,t]) = dijk(w_est[:,t])\n",
    "\n",
    "    # calcualate actual w based on theta_opt plus some noise\n",
    "    #w_actual_noise = np.random.normal(0, sigma_true**2, L)\n",
    "    #w_actual[:,t] = np.maximum(0,w_bar + w_actual_noise)\n",
    "    #w_actual[:,t] = np.concatenate(truncnorm.rvs((lower-path_means1)/sigma_true, (upper-path_means1)/sigma_true, loc=path_means1, scale=sigma_true)*diag_zero)\n",
    "    \n",
    "    # update covariance matrix and theta\n",
    "    # init\n",
    "    theta[:,(t+1)] = theta[:,t]\n",
    "    cov_mat[t+1] = cov_mat[t]\n",
    "    for k in edges:\n",
    "        # update theta\n",
    "        theta[:,(t+1)]=(np.dot(((np.eye(d))-((np.dot(np.dot(cov_mat[t+1],np.transpose(phi[k,:][np.newaxis])),(phi[k,:][np.newaxis]))) / \n",
    "                              (np.dot(np.dot(phi[k,:][np.newaxis],cov_mat[t+1]),np.transpose(phi[k,:][np.newaxis])) + sigma**2))) , \n",
    "                (theta[:,(t+1)].reshape(d,1)))).reshape(d) + (\n",
    "        np.dot(((np.dot(cov_mat[t+1],np.transpose(phi[k,:][np.newaxis])))/(np.dot(np.dot(phi[k,:][np.newaxis],cov_mat[t+1]),np.transpose(phi[k,:][np.newaxis])) + sigma**2)),w_actual[k,t])).reshape(d)\n",
    "        \n",
    "        # update covariance matrix\n",
    "        cov_mat[t+1] = (cov_mat[t+1] -\n",
    "         ((np.dot(np.dot(np.dot(cov_mat[t+1],np.transpose(phi[k,:][np.newaxis])),phi[k,:][np.newaxis]),cov_mat[t+1]))/(np.dot(np.dot(phi[k,:][np.newaxis],cov_mat[t+1]),np.transpose(phi[k,:][np.newaxis])) + sigma**2)))"
   ]
  },
  {
   "cell_type": "code",
   "execution_count": 33,
   "metadata": {
    "scrolled": true
   },
   "outputs": [
    {
     "data": {
      "text/plain": [
       "<matplotlib.collections.QuadMesh at 0x7fa719e99be0>"
      ]
     },
     "execution_count": 33,
     "metadata": {},
     "output_type": "execute_result"
    },
    {
     "data": {
      "image/png": "[encoded data removed]",
      "text/plain": [
       "<matplotlib.figure.Figure at 0x7fa719f742e8>"
      ]
     },
     "metadata": {},
     "output_type": "display_data"
    }
   ],
   "source": [
    "plt.pcolormesh(A)"
   ]
  },
  {
   "cell_type": "code",
   "execution_count": 37,
   "metadata": {},
   "outputs": [
    {
     "data": {
      "image/png": "[encoded data removed]",
      "text/plain": [
       "<matplotlib.figure.Figure at 0x7fa7090c7a58>"
      ]
     },
     "metadata": {},
     "output_type": "display_data"
    }
   ],
   "source": [
    "plt.pcolor(A[:,1:1000], label = \"edges in chosen path\")\n",
    "plt.xlabel(\"iteration\")\n",
    "plt.ylabel(\"path location in network matrix\")\n",
    "plt.title(\"CombLinTS chosen path at each iteration\")\n",
    "yellow_patch = mpatches.Patch(color='yellow', label='edges in chosen path')\n",
    "plt.legend(handles=[yellow_patch], bbox_to_anchor=(0.53, 0.98), loc=2)\n",
    "plt.savefig('stoch_network_CombLinTS.pdf')"
   ]
  },
  {
   "cell_type": "code",
   "execution_count": 34,
   "metadata": {
    "scrolled": true
   },
   "outputs": [
    {
     "data": {
      "text/plain": [
       "<matplotlib.collections.QuadMesh at 0x7fa719e7c470>"
      ]
     },
     "execution_count": 34,
     "metadata": {},
     "output_type": "execute_result"
    },
    {
     "data": {
      "image/png": "[encoded data removed]",
      "text/plain": [
       "<matplotlib.figure.Figure at 0x7fa71a069208>"
      ]
     },
     "metadata": {},
     "output_type": "display_data"
    }
   ],
   "source": [
    "plt.pcolormesh(np.repeat(dijk(path_means1.reshape(L,))[1],iters).reshape(L,iters))"
   ]
  },
  {
   "cell_type": "code",
   "execution_count": null,
   "metadata": {},
   "outputs": [],
   "source": [
    "plt.pcolormesh(np.repeat(dijk(path_means1.reshape(L,))[1],10).reshape(L,10))"
   ]
  },
  {
   "cell_type": "code",
   "execution_count": 39,
   "metadata": {},
   "outputs": [
    {
     "data": {
      "text/plain": [
       "3553.0877447989833"
      ]
     },
     "execution_count": 39,
     "metadata": {},
     "output_type": "execute_result"
    }
   ],
   "source": [
    "np.sum(A*(w_actual))"
   ]
  },
  {
   "cell_type": "code",
   "execution_count": 46,
   "metadata": {},
   "outputs": [
    {
     "data": {
      "text/plain": [
       "3517.1562144462278"
      ]
     },
     "execution_count": 46,
     "metadata": {},
     "output_type": "execute_result"
    }
   ],
   "source": [
    "np.sum((np.repeat(dijk(path_means1.reshape(L,))[1],10000).reshape(L,10000))*w_actual)"
   ]
  },
  {
   "cell_type": "code",
   "execution_count": 44,
   "metadata": {},
   "outputs": [
    {
     "data": {
      "text/plain": [
       "(100, 10000)"
      ]
     },
     "execution_count": 44,
     "metadata": {},
     "output_type": "execute_result"
    }
   ],
   "source": [
    "A.shape"
   ]
  },
  {
   "cell_type": "code",
   "execution_count": null,
   "metadata": {
    "collapsed": true
   },
   "outputs": [],
   "source": []
  }
 ],
 "metadata": {
  "kernelspec": {
   "display_name": "Python 3",
   "language": "python",
   "name": "python3"
  },
  "language_info": {
   "codemirror_mode": {
    "name": "ipython",
    "version": 3
   },
   "file_extension": ".py",
   "mimetype": "text/x-python",
   "name": "python",
   "nbconvert_exporter": "python",
   "pygments_lexer": "ipython3",
   "version": "3.5.2"
  },
  "varInspector": {
   "cols": {
    "lenName": 16,
    "lenType": 16,
    "lenVar": 40
   },
   "kernels_config": {
    "python": {
     "delete_cmd_postfix": "",
     "delete_cmd_prefix": "del ",
     "library": "var_list.py",
     "varRefreshCmd": "print(var_dic_list())"
    },
    "r": {
     "delete_cmd_postfix": ") ",
     "delete_cmd_prefix": "rm(",
     "library": "var_list.r",
     "varRefreshCmd": "cat(var_dic_list()) "
    }
   },
   "types_to_exclude": [
    "module",
    "function",
    "builtin_function_or_method",
    "instance",
    "_Feature"
   ],
   "window_display": false
  }
 },
 "nbformat": 4,
 "nbformat_minor": 2
}
