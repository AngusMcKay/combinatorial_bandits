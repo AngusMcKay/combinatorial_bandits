{
 "cells": [
  {
   "cell_type": "code",
   "execution_count": 1,
   "metadata": {},
   "outputs": [],
   "source": [
    "# Libraries\n",
    "import numpy as np\n",
    "import matplotlib.pyplot as plt\n",
    "from tqdm import tqdm\n",
    "import math\n",
    "%matplotlib inline"
   ]
  },
  {
   "cell_type": "code",
   "execution_count": 2,
   "metadata": {
    "collapsed": true
   },
   "outputs": [],
   "source": [
    "# Oracle for a given weights matrix\n",
    "def dijk(w):\n",
    "    # Dijkstra\n",
    "    # set initial conditions\n",
    "    L = int(math.sqrt(len(w))) # number of vertices\n",
    "    w = w.reshape(L,L)\n",
    "    unvisited = list(range(L))\n",
    "    distances = [999999]*L\n",
    "    distances[0] = 0\n",
    "    paths = [[0]]*L\n",
    "\n",
    "    while len(unvisited) > 0:\n",
    "        i = np.argmin([distances[i] for i in unvisited])\n",
    "        v = unvisited[i]\n",
    "        unvisited.pop(i)\n",
    "        for u in range(L):\n",
    "            if distances[u] > distances[v] + w[v, u]:\n",
    "                distances[u] = distances[v] + w[v, u]\n",
    "                paths[u] = paths[v][:]\n",
    "                paths[u].append(u)\n",
    "    \n",
    "    short = paths[-1]\n",
    "    # store observed paths\n",
    "    A = np.arange(L**2).reshape(L,L)\n",
    "    out = []\n",
    "    for i in range(len(short)-1):\n",
    "        out.append(A[short[i], short[i+1]])\n",
    "        \n",
    "    A = np.zeros(L**2)\n",
    "    A[out] = 1\n",
    "    return(out, A)"
   ]
  },
  {
   "cell_type": "code",
   "execution_count": null,
   "metadata": {
    "collapsed": true
   },
   "outputs": [],
   "source": [
    "# Wan, Kveton and Ashkan 2015 CombLinTS algorithm\n",
    "# Should work better than other algorithms when L is very large as doesn't depend on L\n",
    "# Makes use of Lxd generalization matrix Φ of features for each element of E\n",
    "# w̄ lies on or close to subspace span of Φ\n",
    "# define θ∗ = argmin_θ ||w̄ − Φθ||_2\n",
    "# could think of features as for example knowledge of other activities/events which affects outcome - \n",
    "# like characteristics of movies which could predict rating??\n",
    "\n",
    "\n",
    "# Scenario: User knows Φ matrix of activities/events\n",
    "# At each stage user samples coefficients θ used to estimate w̄\n",
    "# and uses this estimate with oracle to determine which move to play\n",
    "# observes weight for each play and updates parameters of θ sampling accordingly\n",
    "\n",
    "### Set parameters\n",
    "L = 16 # 4x4 grid with 16 possible edges\n",
    "lambda_true = 10 # (used to generate true coefficients of Φ which are then used to calculate w̄ )\n",
    "sigma_true = 1 # (used when adding noise to true w at each iteration)\n",
    "d = L\n",
    "phi = np.random.normal(0, 1, (L,d))\n",
    "#phi = np.random.uniform(0, 1, L*d).reshape(L,d)\n",
    "#theta_opt = np.random.multivariate_normal([0]*d, np.diag([lambda_true**2]*d))\n",
    "w_bar = np.array([0,100,1,100,5,0,5,1,5,1,0,100,5,5,5,0])\n",
    "#w_bar = np.array([0,10,1,100,5,0,5,1,5,1,0,100,5,5,5,0])\n",
    "theta_opt = np.linalg.solve(phi,w_bar)"
   ]
  },
  {
   "cell_type": "code",
   "execution_count": 132,
   "metadata": {},
   "outputs": [],
   "source": [
    "# Wan, Kveton and Ashkan 2015 CombLinTS algorithm\n",
    "# Should work better than other algorithms when L is very large as doesn't depend on L\n",
    "# Makes use of Lxd generalization matrix Φ of features for each element of E\n",
    "# w̄ lies on or close to subspace span of Φ\n",
    "# define θ∗ = argmin_θ ||w̄ − Φθ||_2\n",
    "# could think of features as for example knowledge of other activities/events which affects outcome - \n",
    "# like characteristics of movies which could predict rating??\n",
    "\n",
    "\n",
    "# Scenario: User knows Φ matrix of activities/events\n",
    "# At each stage user samples coefficients θ used to estimate w̄\n",
    "# and uses this estimate with oracle to determine which move to play\n",
    "# observes weight for each play and updates parameters of θ sampling accordingly\n",
    "\n",
    "### Set parameters\n",
    "#L = 16 # 4x4 grid with 16 possible edges\n",
    "lambda_true = 10 # (used to generate true coefficients of Φ which are then used to calculate w̄ )\n",
    "sigma_true = 0.2 # (used when adding noise to true w at each iteration)\n",
    "d = L\n",
    "#phi = np.random.normal(0, 1, (L,d))\n",
    "phi = np.eye(L)\n",
    "#phi = np.random.uniform(0, 1, L*d).reshape(L,d)\n",
    "#theta_opt = np.random.multivariate_normal([0]*d, np.diag([lambda_true**2]*d))\n",
    "#w_bar = path_means1.reshape(L,)\n",
    "w_bar = path_means2.reshape(L,)\n",
    "#w_bar = np.array([0,100,1,100,5,0,5,1,5,1,0,100,5,5,5,0])\n",
    "#w_bar = np.array([0,10,1,100,5,0,5,1,5,1,0,100,5,5,5,0])\n",
    "theta_opt = np.linalg.solve(phi,w_bar)"
   ]
  },
  {
   "cell_type": "code",
   "execution_count": null,
   "metadata": {},
   "outputs": [],
   "source": [
    "w_bar.reshape(V,V)"
   ]
  },
  {
   "cell_type": "code",
   "execution_count": 127,
   "metadata": {
    "scrolled": true
   },
   "outputs": [
    {
     "data": {
      "text/plain": [
       "array([ 0.        ,  0.25456564,  0.14112207,  0.99936511,  0.00686668,\n",
       "        0.8184422 ,  0.02048403,  0.64717919,  0.51902825,  1.        ,\n",
       "        0.09667057,  0.        ,  0.07717914,  0.1837748 ,  0.90331999,\n",
       "        0.1418605 ,  0.70887373,  0.92188849,  0.58962445,  0.32713378,\n",
       "        0.5011041 ,  0.61231892,  0.        ,  0.73163863,  0.53341811,\n",
       "        0.96898879,  0.51764703,  0.99310804,  0.53331763,  0.91798318,\n",
       "        0.39278907,  0.76899963,  0.15623715,  0.        ,  0.65694365,\n",
       "        0.81592824,  0.35509383,  0.84659696,  0.56867437,  0.22366422,\n",
       "        0.50397305,  0.41014485,  0.13792159,  0.62894264,  0.        ,\n",
       "        0.64678616,  0.25178649,  0.88117397,  0.91158486,  0.8273427 ,\n",
       "        0.22795725,  0.89402077,  0.05742877,  0.0564621 ,  0.13415585,\n",
       "        0.        ,  0.97954148,  0.05675568,  0.88198607,  0.67974769,\n",
       "        0.95403093,  0.44826824,  0.25933291,  0.21646015,  0.78865601,\n",
       "        0.42698901,  0.        ,  0.14336821,  0.09217299,  0.23005988,\n",
       "        0.22068796,  0.47895656,  0.41923179,  0.83831307,  0.16688381,\n",
       "        0.40596919,  0.99062919,  0.        ,  0.51571923,  0.33699682,\n",
       "        0.04046055,  0.85140227,  0.83478398,  0.02705679,  0.16011667,\n",
       "        0.50598007,  0.21480227,  0.6191103 ,  0.        ,  0.01157357,\n",
       "        0.49628436,  0.30012563,  0.02504813,  0.81613651,  0.19333318,\n",
       "        0.05142256,  0.30386912,  0.46718378,  0.78152405,  0.        ])"
      ]
     },
     "execution_count": 127,
     "metadata": {},
     "output_type": "execute_result"
    }
   ],
   "source": [
    "theta_opt"
   ]
  },
  {
   "cell_type": "code",
   "execution_count": null,
   "metadata": {},
   "outputs": [],
   "source": [
    "phi"
   ]
  },
  {
   "cell_type": "code",
   "execution_count": null,
   "metadata": {},
   "outputs": [],
   "source": [
    "a=np.dot(phi,theta_opt)"
   ]
  },
  {
   "cell_type": "code",
   "execution_count": null,
   "metadata": {},
   "outputs": [],
   "source": [
    "%time b = np.maximum(a,0)"
   ]
  },
  {
   "cell_type": "code",
   "execution_count": null,
   "metadata": {},
   "outputs": [],
   "source": [
    "b"
   ]
  },
  {
   "cell_type": "code",
   "execution_count": null,
   "metadata": {},
   "outputs": [],
   "source": [
    "%time a[a < 0] = 0"
   ]
  },
  {
   "cell_type": "code",
   "execution_count": null,
   "metadata": {},
   "outputs": [],
   "source": [
    "a"
   ]
  },
  {
   "cell_type": "code",
   "execution_count": null,
   "metadata": {},
   "outputs": [],
   "source": [
    "dijk(a)"
   ]
  },
  {
   "cell_type": "code",
   "execution_count": null,
   "metadata": {},
   "outputs": [],
   "source": [
    "dijk(np.dot(phi,theta_opt))"
   ]
  },
  {
   "cell_type": "code",
   "execution_count": null,
   "metadata": {},
   "outputs": [],
   "source": [
    "dijk(w_bar)"
   ]
  },
  {
   "cell_type": "code",
   "execution_count": 133,
   "metadata": {
    "collapsed": true
   },
   "outputs": [],
   "source": [
    "# Shortest path case for toy example\n",
    "iters = 1000\n",
    "w_est = np.zeros((L, iters))\n",
    "w_actual = np.zeros((L, iters))\n",
    "A = np.zeros((L, iters))\n",
    "theta = np.zeros((d, iters+1))\n",
    "### INIT\n",
    "t=0\n",
    "lamb = 5\n",
    "sigma = 75\n",
    "cov_mat = [np.diag([lamb**2]*d)]*(iters+1)\n",
    "theta[:,t] = [0]*d"
   ]
  },
  {
   "cell_type": "code",
   "execution_count": 134,
   "metadata": {},
   "outputs": [
    {
     "name": "stderr",
     "output_type": "stream",
     "text": [
      "100%|██████████| 1000/1000 [00:03<00:00, 272.24it/s]\n"
     ]
    }
   ],
   "source": [
    "### iterate over number of iterations\n",
    "for t in tqdm(range(iters)):\n",
    "    # draw sample theta and use to estimate w\n",
    "    theta_sample = np.random.multivariate_normal(theta[:,t], cov_mat[t])\n",
    "    w_est[:,t] = np.maximum(np.dot(phi, theta_sample),0)\n",
    "    # Solve oracle for w_est and get A_t - can be any number of elements\n",
    "    (edges, A[:,t]) = dijk(w_est[:,t])\n",
    "    #A.append(dijk(w_est[:,t]))\n",
    "\n",
    "    # calcualate actual w based on theta_opt plus some noise\n",
    "    w_actual_noise = np.random.normal(0, sigma_true**2, L)\n",
    "    w_actual[:,t] = np.maximum(0,w_bar + w_actual_noise)\n",
    "    \n",
    "    # update covariance matrix and theta\n",
    "    # init\n",
    "    theta[:,(t+1)] = theta[:,t]\n",
    "    cov_mat[t+1] = cov_mat[t]\n",
    "    for k in edges:\n",
    "        # update theta\n",
    "        theta[:,(t+1)]=(np.dot(((np.eye(d))-((np.dot(np.dot(cov_mat[t+1],np.transpose(phi[k,:])),(phi[k,:]))) / \n",
    "                              (np.dot(np.dot(phi[k,:],cov_mat[t+1]),np.transpose(phi[k,:])) + sigma**2))) , \n",
    "                (theta[:,(t+1)]))) + (\n",
    "        np.dot(((np.dot(cov_mat[t+1],np.transpose(phi[k,:])))/(np.dot(np.dot(phi[k,:],cov_mat[t+1]),np.transpose(phi[k,:])) + sigma**2)),w_actual[k,t]))\n",
    "        \n",
    "        # update covariance matrix\n",
    "        cov_mat[t+1] = (cov_mat[t+1] -\n",
    "         ((np.dot(np.dot(np.dot(cov_mat[t+1],np.transpose(phi[k,:])),phi[k,:]),cov_mat[t+1]))/(np.dot(np.dot(phi[k,:],cov_mat[t+1]),np.transpose(phi[k,:])) + sigma**2)))"
   ]
  },
  {
   "cell_type": "code",
   "execution_count": 68,
   "metadata": {},
   "outputs": [
    {
     "data": {
      "text/plain": [
       "array([ 0.,  0.,  0.,  0.,  0.,  0.,  0.,  0.,  0.,  0.,  0.,  0.,  0.,\n",
       "        0.,  0.,  0.,  0.,  0.,  0.,  0.,  0.,  0.,  0.,  0.,  0.,  0.,\n",
       "        0.,  0.,  0.,  0.,  0.,  0.,  0.,  0.,  0.,  0.,  0.,  0.,  0.,\n",
       "        0.,  0.,  0.,  0.,  0.,  0.,  0.,  0.,  0.,  0.,  0.,  0.,  0.,\n",
       "        0.,  0.,  0.,  0.,  0.,  0.,  0.,  0.,  0.,  0.,  0.,  0.,  0.,\n",
       "        0.,  0.,  0.,  0.,  0.,  0.,  0.,  0.,  0.,  0.,  0.,  0.,  0.,\n",
       "        0.,  0.,  0.,  0.,  0.,  0.,  0.,  0.,  0.,  0.,  0.,  0.,  0.,\n",
       "        0.,  0.,  0.,  0.,  0.,  0.,  0.,  0.,  0.])"
      ]
     },
     "execution_count": 68,
     "metadata": {},
     "output_type": "execute_result"
    }
   ],
   "source": [
    "theta[:,1]"
   ]
  },
  {
   "cell_type": "code",
   "execution_count": 69,
   "metadata": {
    "collapsed": true
   },
   "outputs": [],
   "source": [
    "t=1\n",
    "theta_sample = np.random.multivariate_normal(theta[:,t], cov_mat[t])"
   ]
  },
  {
   "cell_type": "code",
   "execution_count": 70,
   "metadata": {},
   "outputs": [
    {
     "data": {
      "text/plain": [
       "array([  1.11902872e+00,   6.36829429e-01,  -5.67913914e-01,\n",
       "         1.09059017e+00,   7.68921175e-01,  -3.31295579e-01,\n",
       "         1.22426487e+00,   5.40592013e-01,   7.31854809e-02,\n",
       "         1.09772641e+00,   1.95866964e+00,   6.80096567e-02,\n",
       "         1.13674313e+00,   3.57976937e-01,  -1.01472214e+00,\n",
       "         6.44217441e-01,   1.12991994e+00,  -8.74879178e-01,\n",
       "        -1.24362400e+00,   1.94008575e+00,  -6.31525672e-01,\n",
       "         4.82782061e-01,   8.08457612e-01,   1.16575215e+00,\n",
       "        -3.36481606e-01,  -5.17908961e-01,  -1.10412612e+00,\n",
       "         3.93918810e-01,  -6.43191798e-01,   4.14331828e-01,\n",
       "         3.06770351e-02,   8.93162827e-01,  -5.83731913e-01,\n",
       "         8.22466515e-01,   9.72368439e-01,   7.49039498e-01,\n",
       "         3.25572763e-01,  -2.07621247e+00,  -6.65974967e-01,\n",
       "        -7.42988191e-01,  -3.44708615e-01,  -6.86479778e-03,\n",
       "        -1.12097186e-03,   1.88820005e+00,   2.14039360e-01,\n",
       "        -4.17323590e-01,  -1.27941873e+00,  -7.64940238e-01,\n",
       "         7.87535349e-01,   7.48078438e-01,   8.01463543e-01,\n",
       "         9.82896360e-01,  -6.33993383e-01,  -1.61747081e-01,\n",
       "        -6.94180989e-01,   1.37785852e-01,  -6.85584618e-01,\n",
       "         1.32006624e+00,  -8.31655445e-02,  -9.78444013e-02,\n",
       "        -2.05312310e+00,   7.25890649e-01,   6.07577604e-01,\n",
       "        -7.04776935e-01,  -1.22955341e+00,   1.71420085e-01,\n",
       "         7.73392334e-01,  -6.16339839e-01,  -7.78450943e-02,\n",
       "         1.16507754e+00,  -6.29087415e-01,  -4.72094565e-01,\n",
       "         1.08677524e-01,   2.87367907e-01,   1.25928832e-01,\n",
       "        -4.42728694e-01,  -1.56509616e-01,   5.81230189e-01,\n",
       "        -2.56403309e-01,  -6.73826668e-01,   1.83474165e-01,\n",
       "        -5.78067788e-01,  -6.60219072e-01,  -3.24862782e-01,\n",
       "         5.47610958e-01,  -2.49397950e+00,   4.53384834e-01,\n",
       "        -3.70072874e-01,  -6.77479677e-01,  -7.91302112e-01,\n",
       "         2.72016911e-01,   8.13565745e-01,   1.78234943e-01,\n",
       "        -2.13417161e+00,  -1.28349050e+00,  -5.15866576e-01,\n",
       "        -9.39636220e-01,  -3.33649223e-01,  -1.43677645e-02,\n",
       "        -2.43989944e-01])"
      ]
     },
     "execution_count": 70,
     "metadata": {},
     "output_type": "execute_result"
    }
   ],
   "source": [
    "theta_sample"
   ]
  },
  {
   "cell_type": "code",
   "execution_count": 71,
   "metadata": {},
   "outputs": [
    {
     "data": {
      "text/plain": [
       "array([ 0.,  0.,  0.,  0.,  0.,  0.,  0.,  0.,  0.,  0.,  0.,  0.,  0.,\n",
       "        0.,  0.,  0.,  0.,  0.,  0.,  0.,  0.,  0.,  0.,  0.,  0.,  0.,\n",
       "        0.,  0.,  0.,  0.,  0.,  0.,  0.,  0.,  0.,  0.,  0.,  0.,  0.,\n",
       "        0.,  0.,  0.,  0.,  0.,  0.,  0.,  0.,  0.,  0.,  0.,  0.,  0.,\n",
       "        0.,  0.,  0.,  0.,  0.,  0.,  0.,  0.,  0.,  0.,  0.,  0.,  0.,\n",
       "        0.,  0.,  0.,  0.,  0.,  0.,  0.,  0.,  0.,  0.,  0.,  0.,  0.,\n",
       "        0.,  0.,  0.,  0.,  0.,  0.,  0.,  0.,  0.,  0.,  0.,  0.,  0.,\n",
       "        0.,  0.,  0.,  0.,  0.,  0.,  0.,  0.,  0.])"
      ]
     },
     "execution_count": 71,
     "metadata": {},
     "output_type": "execute_result"
    }
   ],
   "source": [
    "theta[:,2]"
   ]
  },
  {
   "cell_type": "code",
   "execution_count": 72,
   "metadata": {},
   "outputs": [],
   "source": [
    "w_est[:,t] = np.maximum(np.dot(phi, theta_sample),0)\n",
    "# Solve oracle for w_est and get A_t - can be any number of elements\n",
    "(edges, A[:,t]) = dijk(w_est[:,t])\n",
    "#A.append(dijk(w_est[:,t]))"
   ]
  },
  {
   "cell_type": "code",
   "execution_count": 73,
   "metadata": {},
   "outputs": [
    {
     "data": {
      "text/plain": [
       "[5, 59]"
      ]
     },
     "execution_count": 73,
     "metadata": {},
     "output_type": "execute_result"
    }
   ],
   "source": [
    "edges"
   ]
  },
  {
   "cell_type": "code",
   "execution_count": 74,
   "metadata": {
    "collapsed": true
   },
   "outputs": [],
   "source": [
    "# calcualate actual w based on theta_opt plus some noise\n",
    "w_actual_noise = np.random.normal(0, sigma_true**2, L)\n",
    "w_actual[:,t] = np.maximum(0,w_bar + w_actual_noise)\n",
    "\n",
    "# update covariance matrix and theta\n",
    "# init\n",
    "theta[:,(t+1)] = theta[:,t]\n",
    "cov_mat[t+1] = cov_mat[t]\n",
    "for k in edges:\n",
    "    # update theta\n",
    "    theta[:,(t+1)]=(np.dot(((np.eye(d))-((np.dot(np.dot(cov_mat[t+1],np.transpose(phi[k,:])),(phi[k,:]))) / \n",
    "                          (np.dot(np.dot(phi[k,:],cov_mat[t+1]),np.transpose(phi[k,:])) + sigma**2))) , \n",
    "            (theta[:,(t+1)]))) + (\n",
    "    np.dot(((np.dot(cov_mat[t+1],np.transpose(phi[k,:])))/(np.dot(np.dot(phi[k,:],cov_mat[t+1]),np.transpose(phi[k,:])) + sigma**2)),w_actual[k,t]))\n",
    "\n",
    "    # update covariance matrix\n",
    "    cov_mat[t+1] = (cov_mat[t+1] -\n",
    "     ((np.dot(np.dot(np.dot(cov_mat[t+1],np.transpose(phi[k,:])),phi[k,:]),cov_mat[t+1]))/(np.dot(np.dot(phi[k,:],cov_mat[t+1]),np.transpose(phi[k,:])) + sigma**2)))"
   ]
  },
  {
   "cell_type": "code",
   "execution_count": 75,
   "metadata": {},
   "outputs": [
    {
     "data": {
      "text/plain": [
       "array([-0.16332232, -0.16332232, -0.16332232, -0.16332232, -0.16332232,\n",
       "        0.32827785, -0.16332232, -0.16332232, -0.16332232, -0.16332232,\n",
       "       -0.16332232, -0.16332232, -0.16332232, -0.16332232, -0.16332232,\n",
       "       -0.16332232, -0.16332232, -0.16332232, -0.16332232, -0.16332232,\n",
       "       -0.16332232, -0.16332232, -0.16332232, -0.16332232, -0.16332232,\n",
       "       -0.16332232, -0.16332232, -0.16332232, -0.16332232, -0.16332232,\n",
       "       -0.16332232, -0.16332232, -0.16332232, -0.16332232, -0.16332232,\n",
       "       -0.16332232, -0.16332232, -0.16332232, -0.16332232, -0.16332232,\n",
       "       -0.16332232, -0.16332232, -0.16332232, -0.16332232, -0.16332232,\n",
       "       -0.16332232, -0.16332232, -0.16332232, -0.16332232, -0.16332232,\n",
       "       -0.16332232, -0.16332232, -0.16332232, -0.16332232, -0.16332232,\n",
       "       -0.16332232, -0.16332232, -0.16332232, -0.16332232,  0.06211314,\n",
       "       -0.16332232, -0.16332232, -0.16332232, -0.16332232, -0.16332232,\n",
       "       -0.16332232, -0.16332232, -0.16332232, -0.16332232, -0.16332232,\n",
       "       -0.16332232, -0.16332232, -0.16332232, -0.16332232, -0.16332232,\n",
       "       -0.16332232, -0.16332232, -0.16332232, -0.16332232, -0.16332232,\n",
       "       -0.16332232, -0.16332232, -0.16332232, -0.16332232, -0.16332232,\n",
       "       -0.16332232, -0.16332232, -0.16332232, -0.16332232, -0.16332232,\n",
       "       -0.16332232, -0.16332232, -0.16332232, -0.16332232, -0.16332232,\n",
       "       -0.16332232, -0.16332232, -0.16332232, -0.16332232, -0.16332232])"
      ]
     },
     "execution_count": 75,
     "metadata": {},
     "output_type": "execute_result"
    }
   ],
   "source": [
    "theta[:,2]"
   ]
  },
  {
   "cell_type": "code",
   "execution_count": 80,
   "metadata": {},
   "outputs": [
    {
     "data": {
      "text/plain": [
       "array([ 0.  ,  0.05,  0.15,  0.25,  0.35,  0.45,  0.55,  0.65,  0.75,\n",
       "        0.85,  0.05,  0.  ,  0.05,  0.15,  0.25,  0.35,  0.45,  0.55,\n",
       "        0.65,  0.75,  0.15,  0.05,  0.  ,  0.05,  0.15,  0.25,  0.35,\n",
       "        0.45,  0.55,  0.65,  0.25,  0.15,  0.05,  0.  ,  0.05,  0.15,\n",
       "        0.25,  0.35,  0.45,  0.55,  0.35,  0.25,  0.15,  0.05,  0.  ,\n",
       "        0.05,  0.15,  0.25,  0.35,  0.45,  0.45,  0.35,  0.25,  0.15,\n",
       "        0.05,  0.  ,  0.05,  0.15,  0.25,  0.35,  0.55,  0.45,  0.35,\n",
       "        0.25,  0.15,  0.05,  0.  ,  0.05,  0.15,  0.25,  0.65,  0.55,\n",
       "        0.45,  0.35,  0.25,  0.15,  0.05,  0.  ,  0.05,  0.15,  0.75,\n",
       "        0.65,  0.55,  0.45,  0.35,  0.25,  0.15,  0.05,  0.  ,  0.05,\n",
       "        0.85,  0.75,  0.65,  0.55,  0.45,  0.35,  0.25,  0.15,  0.05,  0.  ])"
      ]
     },
     "execution_count": 80,
     "metadata": {},
     "output_type": "execute_result"
    }
   ],
   "source": [
    "theta_opt"
   ]
  },
  {
   "cell_type": "code",
   "execution_count": 81,
   "metadata": {
    "scrolled": true
   },
   "outputs": [
    {
     "name": "stdout",
     "output_type": "stream",
     "text": [
      "CPU times: user 3 µs, sys: 5 µs, total: 8 µs\n",
      "Wall time: 16 µs\n"
     ]
    }
   ],
   "source": [
    "%time a = theta[:,-1]"
   ]
  },
  {
   "cell_type": "code",
   "execution_count": 82,
   "metadata": {},
   "outputs": [
    {
     "data": {
      "text/plain": [
       "array([ 4008594.48428043,  4008594.48428043,  4008597.19388379,\n",
       "        4008594.48428043,  4008594.48428043,  4008594.48428043,\n",
       "        4008594.48428043,  4008594.48428043,  4008594.48428043,\n",
       "        4008596.07381205,  4008594.48428043,  4008594.48428043,\n",
       "        4008594.48428043,  4008594.48428043,  4008594.48428043,\n",
       "        4008594.48428043,  4008594.48428043,  4008594.48428043,\n",
       "        4008594.48428043,  4008594.48428043,  4008594.48428043,\n",
       "        4008594.48428043,  4008594.48428043,  4008594.48428043,\n",
       "        4008594.48428043,  4008594.48428043,  4008594.48428043,\n",
       "        4008594.48428043,  4008594.48428043,  4008594.48428043,\n",
       "        4008594.48428043,  4008594.48428043,  4008594.48428043,\n",
       "        4008594.48428043,  4008594.48428043,  4008594.48428043,\n",
       "        4008594.48428043,  4008594.48428043,  4008594.48428043,\n",
       "        4008594.48428043,  4008594.48428043,  4008594.48428043,\n",
       "        4008594.48428043,  4008594.48428043,  4008594.48428043,\n",
       "        4008594.48428043,  4008594.48428043,  4008594.48428043,\n",
       "        4008594.48428043,  4008594.48428043,  4008594.48428043,\n",
       "        4008594.48428043,  4008594.48428043,  4008594.48428043,\n",
       "        4008594.48428043,  4008594.48428043,  4008594.48428043,\n",
       "        4008594.48428043,  4008594.48428043,  4008594.48428043,\n",
       "        4008594.48428043,  4008594.48428043,  4008594.48428043,\n",
       "        4008594.48428043,  4008594.48428043,  4008594.48428043,\n",
       "        4008594.48428043,  4008594.48428043,  4008594.48428043,\n",
       "        4008594.48428043,  4008594.48428043,  4008594.48428043,\n",
       "        4008594.48428043,  4008594.48428043,  4008594.48428043,\n",
       "        4008594.48428043,  4008594.48428043,  4008594.48428043,\n",
       "        4008594.48428043,  4008594.48428043,  4008594.48428043,\n",
       "        4008594.48428043,  4008594.48428043,  4008594.48428043,\n",
       "        4008594.48428043,  4008594.48428043,  4008594.48428043,\n",
       "        4008594.48428043,  4008594.48428043,  4008594.48428043,\n",
       "        4008594.48428043,  4008594.48428043,  4008594.48428043,\n",
       "        4008594.48428043,  4008594.48428043,  4008594.48428043,\n",
       "        4008594.48428043,  4008594.48428043,  4008594.48428043,\n",
       "        4008594.48428043])"
      ]
     },
     "execution_count": 82,
     "metadata": {},
     "output_type": "execute_result"
    }
   ],
   "source": [
    "np.dot(phi,a)"
   ]
  },
  {
   "cell_type": "code",
   "execution_count": null,
   "metadata": {},
   "outputs": [],
   "source": [
    "dijk(np.dot(phi,a))"
   ]
  },
  {
   "cell_type": "code",
   "execution_count": null,
   "metadata": {},
   "outputs": [],
   "source": [
    "dijk(np.dot(phi,theta_opt))"
   ]
  },
  {
   "cell_type": "code",
   "execution_count": null,
   "metadata": {},
   "outputs": [],
   "source": [
    "dijk(path_means1.reshape(L,))"
   ]
  },
  {
   "cell_type": "code",
   "execution_count": null,
   "metadata": {},
   "outputs": [],
   "source": [
    "np.append(A,np.dot(phi,a))"
   ]
  },
  {
   "cell_type": "code",
   "execution_count": 135,
   "metadata": {
    "scrolled": true
   },
   "outputs": [
    {
     "data": {
      "text/plain": [
       "<matplotlib.collections.QuadMesh at 0x7ff3ffcc4ef0>"
      ]
     },
     "execution_count": 135,
     "metadata": {},
     "output_type": "execute_result"
    },
    {
     "data": {
      "image/png": "[encoded data removed]",
      "text/plain": [
       "<matplotlib.figure.Figure at 0x7ff4040813c8>"
      ]
     },
     "metadata": {},
     "output_type": "display_data"
    }
   ],
   "source": [
    "plt.pcolormesh(A)"
   ]
  },
  {
   "cell_type": "code",
   "execution_count": 131,
   "metadata": {},
   "outputs": [
    {
     "data": {
      "text/plain": [
       "<matplotlib.collections.QuadMesh at 0x7ff4040a44a8>"
      ]
     },
     "execution_count": 131,
     "metadata": {},
     "output_type": "execute_result"
    },
    {
     "data": {
      "image/png": "[encoded data removed]",
      "text/plain": [
       "<matplotlib.figure.Figure at 0x7ff40443b198>"
      ]
     },
     "metadata": {},
     "output_type": "display_data"
    }
   ],
   "source": [
    "plt.pcolormesh(np.repeat(dijk(path_means2.reshape(L,))[1],iters).reshape(L,iters))"
   ]
  },
  {
   "cell_type": "code",
   "execution_count": null,
   "metadata": {},
   "outputs": [],
   "source": [
    "plt.pcolormesh(w_est)"
   ]
  },
  {
   "cell_type": "code",
   "execution_count": null,
   "metadata": {
    "scrolled": true
   },
   "outputs": [],
   "source": [
    "path_means1"
   ]
  },
  {
   "cell_type": "code",
   "execution_count": 56,
   "metadata": {},
   "outputs": [],
   "source": [
    "V = 10\n",
    "L = V*V\n",
    "diag_zero = np.ones(L).reshape(V, V) - np.diag(np.ones(V))\n",
    "\n",
    "path_means1 = np.zeros(L).reshape(V, V)\n",
    "for i in range(V):\n",
    "    for j in range(V):\n",
    "        path_means1[i,j] = abs(i - j)/V - 1/(V*2)\n",
    "path_means1 = abs(path_means1 * diag_zero)"
   ]
  },
  {
   "cell_type": "code",
   "execution_count": 125,
   "metadata": {
    "scrolled": true
   },
   "outputs": [
    {
     "data": {
      "text/plain": [
       "<matplotlib.collections.QuadMesh at 0x7ff404481198>"
      ]
     },
     "execution_count": 125,
     "metadata": {},
     "output_type": "execute_result"
    },
    {
     "data": {
      "image/png": "[encoded data removed]",
      "text/plain": [
       "<matplotlib.figure.Figure at 0x7ff405793eb8>"
      ]
     },
     "metadata": {},
     "output_type": "display_data"
    }
   ],
   "source": [
    "plt.pcolormesh(np.repeat(dijk(path_means2.reshape(L,))[1],10).reshape(L,10))"
   ]
  },
  {
   "cell_type": "code",
   "execution_count": 34,
   "metadata": {},
   "outputs": [],
   "source": [
    "path_means1[0,-1] = 200"
   ]
  },
  {
   "cell_type": "code",
   "execution_count": 58,
   "metadata": {},
   "outputs": [
    {
     "data": {
      "text/plain": [
       "array([[ 0.  ,  0.05,  0.15,  0.25,  0.35,  0.45,  0.55,  0.65,  0.75,\n",
       "         0.85],\n",
       "       [ 0.05,  0.  ,  0.05,  0.15,  0.25,  0.35,  0.45,  0.55,  0.65,\n",
       "         0.75],\n",
       "       [ 0.15,  0.05,  0.  ,  0.05,  0.15,  0.25,  0.35,  0.45,  0.55,\n",
       "         0.65],\n",
       "       [ 0.25,  0.15,  0.05,  0.  ,  0.05,  0.15,  0.25,  0.35,  0.45,\n",
       "         0.55],\n",
       "       [ 0.35,  0.25,  0.15,  0.05,  0.  ,  0.05,  0.15,  0.25,  0.35,\n",
       "         0.45],\n",
       "       [ 0.45,  0.35,  0.25,  0.15,  0.05,  0.  ,  0.05,  0.15,  0.25,\n",
       "         0.35],\n",
       "       [ 0.55,  0.45,  0.35,  0.25,  0.15,  0.05,  0.  ,  0.05,  0.15,\n",
       "         0.25],\n",
       "       [ 0.65,  0.55,  0.45,  0.35,  0.25,  0.15,  0.05,  0.  ,  0.05,\n",
       "         0.15],\n",
       "       [ 0.75,  0.65,  0.55,  0.45,  0.35,  0.25,  0.15,  0.05,  0.  ,\n",
       "         0.05],\n",
       "       [ 0.85,  0.75,  0.65,  0.55,  0.45,  0.35,  0.25,  0.15,  0.05,  0.  ]])"
      ]
     },
     "execution_count": 58,
     "metadata": {},
     "output_type": "execute_result"
    }
   ],
   "source": [
    "path_means1"
   ]
  },
  {
   "cell_type": "code",
   "execution_count": 124,
   "metadata": {},
   "outputs": [],
   "source": [
    "diag_zero = np.ones(L).reshape(V, V) - np.diag(np.ones(V))\n",
    "path_means2 = np.random.uniform(0, 1, L).reshape(V, V) * diag_zero\n",
    "path_means2[0,-1] = 1 # to try to make sure best path isn't to go straight to the end!"
   ]
  },
  {
   "cell_type": "code",
   "execution_count": null,
   "metadata": {
    "collapsed": true
   },
   "outputs": [],
   "source": []
  }
 ],
 "metadata": {
  "kernelspec": {
   "display_name": "Python 3",
   "language": "python",
   "name": "python3"
  },
  "language_info": {
   "codemirror_mode": {
    "name": "ipython",
    "version": 3
   },
   "file_extension": ".py",
   "mimetype": "text/x-python",
   "name": "python",
   "nbconvert_exporter": "python",
   "pygments_lexer": "ipython3",
   "version": "3.5.2"
  },
  "varInspector": {
   "cols": {
    "lenName": 16,
    "lenType": 16,
    "lenVar": 40
   },
   "kernels_config": {
    "python": {
     "delete_cmd_postfix": "",
     "delete_cmd_prefix": "del ",
     "library": "var_list.py",
     "varRefreshCmd": "print(var_dic_list())"
    },
    "r": {
     "delete_cmd_postfix": ") ",
     "delete_cmd_prefix": "rm(",
     "library": "var_list.r",
     "varRefreshCmd": "cat(var_dic_list()) "
    }
   },
   "types_to_exclude": [
    "module",
    "function",
    "builtin_function_or_method",
    "instance",
    "_Feature"
   ],
   "window_display": false
  }
 },
 "nbformat": 4,
 "nbformat_minor": 2
}
